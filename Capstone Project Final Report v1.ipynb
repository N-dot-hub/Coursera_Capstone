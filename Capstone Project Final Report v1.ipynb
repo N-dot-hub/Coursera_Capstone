{
    "cells": [
        {
            "cell_type": "markdown",
            "metadata": {
                "collapsed": true
            },
            "source": "# After dark Transportation in Sydney"
        },
        {
            "cell_type": "markdown",
            "metadata": {},
            "source": "#### Executive Summary\n.... (to be added on completion of report)"
        },
        {
            "cell_type": "markdown",
            "metadata": {},
            "source": "#### Introduction\nRBT means you need a Plan B. This NSW road safety campaign slogan is clear and concise. However, it\u2019s message on the perils of drink driving also highlights the key role an effective transportation system plays in the nightlight of a city.\n\nWith a wide and varying nightlife stretching across the city Sydney has many cafes, bars and clubs to offer. As the hub for international flights into Australia it receives over 4 million international visitors as well as 12 million domestic visitors a year.Clearly the transportation demand is there, and one of the crucial components of meeting that need is an efficient taxi and ride sharing economy.\n\nA significant driver of the efficiency of this economy is the ability to pair providers with potential clients when and where the demand is. This report aims to identify the locations in Sydney where the demand for taxi's or ride sharing services are the greatest to assist in driver distribution."
        },
        {
            "cell_type": "markdown",
            "metadata": {},
            "source": "#### Data\nTo solve the problem of allocating taxi and ride sharing serivces to the in demand locations in Sydney the following data has been used:\n\n * A list of Sydney suburbs sourced from Wikipedia (https://en.wikipedia.org/wiki/List_of_Sydney_suburbs)\n \n * Foresquare data for cafe's, resturants, pubs and clubs in the Sydney area: establishment location, opening and closing hours, user ratings as a proxy for popularity and if the venue serves alcohol or not"
        },
        {
            "cell_type": "code",
            "execution_count": null,
            "metadata": {},
            "outputs": [],
            "source": ""
        },
        {
            "cell_type": "code",
            "execution_count": null,
            "metadata": {},
            "outputs": [],
            "source": ""
        }
    ],
    "metadata": {
        "kernelspec": {
            "display_name": "Python 3.6",
            "language": "python",
            "name": "python3"
        },
        "language_info": {
            "codemirror_mode": {
                "name": "ipython",
                "version": 3
            },
            "file_extension": ".py",
            "mimetype": "text/x-python",
            "name": "python",
            "nbconvert_exporter": "python",
            "pygments_lexer": "ipython3",
            "version": "3.6.9"
        }
    },
    "nbformat": 4,
    "nbformat_minor": 1
}